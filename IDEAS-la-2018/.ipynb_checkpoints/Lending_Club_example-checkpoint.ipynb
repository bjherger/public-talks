{
 "cells": [
  {
   "cell_type": "markdown",
   "metadata": {},
   "source": [
    "# Getting started\n",
    "\n",
    "Borrowed from: [https://github.com/bjherger/keras-pandas/blob/master/examples/lending_club.py](https://github.com/bjherger/keras-pandas/blob/master/examples/lending_club.py)\n",
    "\n",
    "We'll install `keras-pandas`\n",
    "\n",
    "```bash\n",
    "pip install -U keras-pandas\n",
    "```"
   ]
  },
  {
   "cell_type": "markdown",
   "metadata": {},
   "source": [
    "## Setup"
   ]
  },
  {
   "cell_type": "code",
   "execution_count": 1,
   "metadata": {},
   "outputs": [
    {
     "name": "stderr",
     "output_type": "stream",
     "text": [
      "/anaconda3/lib/python3.6/site-packages/h5py/__init__.py:36: FutureWarning: Conversion of the second argument of issubdtype from `float` to `np.floating` is deprecated. In future, it will be treated as `np.float64 == np.dtype(float).type`.\n",
      "  from ._conv import register_converters as _register_converters\n",
      "Using TensorFlow backend.\n",
      "/anaconda3/lib/python3.6/importlib/_bootstrap.py:219: RuntimeWarning: compiletime version 3.5 of module 'tensorflow.python.framework.fast_tensor_util' does not match runtime version 3.6\n",
      "  return f(*args, **kwds)\n"
     ]
    }
   ],
   "source": [
    "import logging\n",
    "\n",
    "from keras import Model\n",
    "from keras.layers import Dense\n",
    "\n",
    "from keras_pandas.Automater import Automater\n",
    "from keras_pandas.lib import load_lending_club"
   ]
  },
  {
   "cell_type": "markdown",
   "metadata": {},
   "source": [
    "## Data\n",
    "\n",
    "Let's say we want to look at the [Lending Club data set]()"
   ]
  },
  {
   "cell_type": "code",
   "execution_count": 2,
   "metadata": {},
   "outputs": [
    {
     "name": "stderr",
     "output_type": "stream",
     "text": [
      "/anaconda3/lib/python3.6/site-packages/keras_pandas/lib.py:160: ParserWarning: Falling back to the 'python' engine because the 'c' engine does not support skipfooter; you can avoid this warning by specifying engine='python'.\n",
      "  observations = pandas.read_csv(file_path, compression='zip', skiprows=1, skipfooter=4, skip_blank_lines=True)\n"
     ]
    }
   ],
   "source": [
    "test_run = True\n",
    "\n",
    "observations = load_lending_club()\n",
    "\n",
    "if test_run:\n",
    "    observations = observations.sample(n=100)\n"
   ]
  },
  {
   "cell_type": "markdown",
   "metadata": {},
   "source": [
    "## Model"
   ]
  },
  {
   "cell_type": "code",
   "execution_count": 3,
   "metadata": {},
   "outputs": [
    {
     "name": "stderr",
     "output_type": "stream",
     "text": [
      "/anaconda3/lib/python3.6/site-packages/sklearn/preprocessing/label.py:95: DataConversionWarning: A column-vector y was passed when a 1d array was expected. Please change the shape of y to (n_samples, ), for example using ravel().\n",
      "  y = column_or_1d(y, warn=True)\n",
      "/anaconda3/lib/python3.6/site-packages/sklearn/preprocessing/label.py:128: DataConversionWarning: A column-vector y was passed when a 1d array was expected. Please change the shape of y to (n_samples, ), for example using ravel().\n",
      "  y = column_or_1d(y, warn=True)\n",
      "WARNING:root:Settle in! This training normally takes about 5-20 minutes on CPU\n"
     ]
    },
    {
     "name": "stdout",
     "output_type": "stream",
     "text": [
      "Train on 80 samples, validate on 20 samples\n",
      "Epoch 1/1\n",
      "80/80 [==============================] - 3s 43ms/step - loss: 1.4388 - acc: 0.1875 - val_loss: 1.3633 - val_acc: 0.3500\n"
     ]
    },
    {
     "data": {
      "text/plain": [
       "<keras.callbacks.History at 0x1a24ff7470>"
      ]
     },
     "execution_count": 3,
     "metadata": {},
     "output_type": "execute_result"
    }
   ],
   "source": [
    "# Transform the data set, using keras_pandas\n",
    "categorical_vars = ['term', 'grade', 'sub_grade', 'emp_length', 'home_ownership', 'verification_status', 'issue_d',\n",
    "                    'pymnt_plan', 'purpose', 'addr_state', 'initial_list_status', 'application_type',\n",
    "                    'disbursement_method', 'loan_status']\n",
    "numerical_vars = ['loan_amnt', 'funded_amnt', 'funded_amnt_inv', 'annual_inc', 'installment', 'dti',\n",
    "                  'inq_last_6mths', 'open_acc', 'pub_rec', 'revol_bal', 'total_acc', 'pub_rec_bankruptcies',\n",
    "                  'int_rate', 'revol_util']\n",
    "text_vars = ['desc', 'title']\n",
    "\n",
    "for categorical_var in categorical_vars:\n",
    "    observations[categorical_var] = observations[categorical_var].fillna('None')\n",
    "    observations[categorical_var] = observations[categorical_var].apply(str)\n",
    "    \n",
    "auto = Automater(categorical_vars=categorical_vars, numerical_vars=numerical_vars, text_vars=text_vars,\n",
    "                 response_var='loan_status')\n",
    "\n",
    "X, y = auto.fit_transform(observations)\n",
    "\n",
    "# Start model with provided input nub\n",
    "x = auto.input_nub\n",
    "\n",
    "# Fill in your own hidden layers\n",
    "x = Dense(8)(x)\n",
    "x = Dense(16, activation='relu')(x)\n",
    "x = Dense(8)(x)\n",
    "\n",
    "# End model with provided output nub\n",
    "x = auto.output_nub(x)\n",
    "\n",
    "model = Model(inputs=auto.input_layers, outputs=x)\n",
    "model.compile(optimizer='Adam', loss=auto.loss, metrics=['accuracy'])\n",
    "\n",
    "# Train model\n",
    "logging.warning('Settle in! This training normally takes about 5-20 minutes on CPU')\n",
    "model.fit(X, y, epochs=1, validation_split=.2)"
   ]
  }
 ],
 "metadata": {
  "kernelspec": {
   "display_name": "Python 3",
   "language": "python",
   "name": "python3"
  },
  "language_info": {
   "codemirror_mode": {
    "name": "ipython",
    "version": 3
   },
   "file_extension": ".py",
   "mimetype": "text/x-python",
   "name": "python",
   "nbconvert_exporter": "python",
   "pygments_lexer": "ipython3",
   "version": "3.6.5"
  }
 },
 "nbformat": 4,
 "nbformat_minor": 2
}
